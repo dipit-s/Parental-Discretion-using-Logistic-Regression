{
 "cells": [
  {
   "cell_type": "markdown",
   "metadata": {},
   "source": [
    "# Parental Discretion Model using Logistic Regression\n"
   ]
  },
  {
   "cell_type": "markdown",
   "metadata": {},
   "source": [
    "DATASET LOAD"
   ]
  },
  {
   "cell_type": "code",
   "execution_count": 1,
   "metadata": {},
   "outputs": [
    {
     "data": {
      "text/html": [
       "<div>\n",
       "<style scoped>\n",
       "    .dataframe tbody tr th:only-of-type {\n",
       "        vertical-align: middle;\n",
       "    }\n",
       "\n",
       "    .dataframe tbody tr th {\n",
       "        vertical-align: top;\n",
       "    }\n",
       "\n",
       "    .dataframe thead th {\n",
       "        text-align: right;\n",
       "    }\n",
       "</style>\n",
       "<table border=\"1\" class=\"dataframe\">\n",
       "  <thead>\n",
       "    <tr style=\"text-align: right;\">\n",
       "      <th></th>\n",
       "      <th>Social Media Message</th>\n",
       "      <th>Type</th>\n",
       "    </tr>\n",
       "  </thead>\n",
       "  <tbody>\n",
       "    <tr>\n",
       "      <th>0</th>\n",
       "      <td>looting will lead to shooting</td>\n",
       "      <td>1</td>\n",
       "    </tr>\n",
       "    <tr>\n",
       "      <th>1</th>\n",
       "      <td>‘I’ll show him things he’s never seen before l...</td>\n",
       "      <td>1</td>\n",
       "    </tr>\n",
       "    <tr>\n",
       "      <th>2</th>\n",
       "      <td>We will together gangrape her</td>\n",
       "      <td>1</td>\n",
       "    </tr>\n",
       "    <tr>\n",
       "      <th>3</th>\n",
       "      <td>I will make sure you will be raped and murdere...</td>\n",
       "      <td>1</td>\n",
       "    </tr>\n",
       "    <tr>\n",
       "      <th>4</th>\n",
       "      <td>Watch your last breath</td>\n",
       "      <td>1</td>\n",
       "    </tr>\n",
       "  </tbody>\n",
       "</table>\n",
       "</div>"
      ],
      "text/plain": [
       "                                Social Media Message  Type\n",
       "0                      looting will lead to shooting     1\n",
       "1  ‘I’ll show him things he’s never seen before l...     1\n",
       "2                      We will together gangrape her     1\n",
       "3  I will make sure you will be raped and murdere...     1\n",
       "4                             Watch your last breath     1"
      ]
     },
     "execution_count": 1,
     "metadata": {},
     "output_type": "execute_result"
    }
   ],
   "source": [
    "#Loading the dataset\n",
    "import pandas as pd\n",
    "import nltk\n",
    "import re\n",
    "df=pd.read_csv('NLP.csv')\n",
    "df.head(5)"
   ]
  },
  {
   "cell_type": "code",
   "execution_count": 2,
   "metadata": {},
   "outputs": [
    {
     "data": {
      "text/plain": [
       "'looting will lead to shooting'"
      ]
     },
     "execution_count": 2,
     "metadata": {},
     "output_type": "execute_result"
    }
   ],
   "source": [
    "#First line of the dataset\n",
    "df['Social Media Message'][0]"
   ]
  },
  {
   "cell_type": "markdown",
   "metadata": {},
   "source": [
    "PRE PROCESSING THE DATA"
   ]
  },
  {
   "cell_type": "code",
   "execution_count": 3,
   "metadata": {},
   "outputs": [
    {
     "data": {
      "text/html": [
       "<div>\n",
       "<style scoped>\n",
       "    .dataframe tbody tr th:only-of-type {\n",
       "        vertical-align: middle;\n",
       "    }\n",
       "\n",
       "    .dataframe tbody tr th {\n",
       "        vertical-align: top;\n",
       "    }\n",
       "\n",
       "    .dataframe thead th {\n",
       "        text-align: right;\n",
       "    }\n",
       "</style>\n",
       "<table border=\"1\" class=\"dataframe\">\n",
       "  <thead>\n",
       "    <tr style=\"text-align: right;\">\n",
       "      <th></th>\n",
       "      <th>Social Media Message</th>\n",
       "      <th>Type</th>\n",
       "      <th>cleanText</th>\n",
       "    </tr>\n",
       "  </thead>\n",
       "  <tbody>\n",
       "    <tr>\n",
       "      <th>0</th>\n",
       "      <td>looting will lead to shooting</td>\n",
       "      <td>1</td>\n",
       "      <td>looting lead shooting</td>\n",
       "    </tr>\n",
       "    <tr>\n",
       "      <th>1</th>\n",
       "      <td>‘I’ll show him things he’s never seen before l...</td>\n",
       "      <td>1</td>\n",
       "      <td>show things never seen like side d**k slice</td>\n",
       "    </tr>\n",
       "    <tr>\n",
       "      <th>2</th>\n",
       "      <td>We will together gangrape her</td>\n",
       "      <td>1</td>\n",
       "      <td>together gangrape</td>\n",
       "    </tr>\n",
       "    <tr>\n",
       "      <th>3</th>\n",
       "      <td>I will make sure you will be raped and murdere...</td>\n",
       "      <td>1</td>\n",
       "      <td>make sure raped murdered bitch commit suicide ...</td>\n",
       "    </tr>\n",
       "    <tr>\n",
       "      <th>4</th>\n",
       "      <td>Watch your last breath</td>\n",
       "      <td>1</td>\n",
       "      <td>watch last breath</td>\n",
       "    </tr>\n",
       "    <tr>\n",
       "      <th>5</th>\n",
       "      <td>She is dangerously close to a long, slow painf...</td>\n",
       "      <td>1</td>\n",
       "      <td>dangerously close long slow painful death</td>\n",
       "    </tr>\n",
       "    <tr>\n",
       "      <th>6</th>\n",
       "      <td>“cut your tongue” and “shut it forever”.</td>\n",
       "      <td>1</td>\n",
       "      <td>cut tongue shut forever</td>\n",
       "    </tr>\n",
       "    <tr>\n",
       "      <th>7</th>\n",
       "      <td>\"A grand wizard like you  should be put down a...</td>\n",
       "      <td>1</td>\n",
       "      <td>grand wizard like put someone put easy find ho...</td>\n",
       "    </tr>\n",
       "    <tr>\n",
       "      <th>8</th>\n",
       "      <td>wait i’m gonna kill ya in the night underneath...</td>\n",
       "      <td>1</td>\n",
       "      <td>wait gon kill night underneath smelly bed</td>\n",
       "    </tr>\n",
       "    <tr>\n",
       "      <th>9</th>\n",
       "      <td>\"I'm going to find you and i'm going to drown ...</td>\n",
       "      <td>1</td>\n",
       "      <td>going find going drown pool nobody people like...</td>\n",
       "    </tr>\n",
       "  </tbody>\n",
       "</table>\n",
       "</div>"
      ],
      "text/plain": [
       "                                Social Media Message  Type  \\\n",
       "0                      looting will lead to shooting     1   \n",
       "1  ‘I’ll show him things he’s never seen before l...     1   \n",
       "2                      We will together gangrape her     1   \n",
       "3  I will make sure you will be raped and murdere...     1   \n",
       "4                             Watch your last breath     1   \n",
       "5  She is dangerously close to a long, slow painf...     1   \n",
       "6           “cut your tongue” and “shut it forever”.     1   \n",
       "7  \"A grand wizard like you  should be put down a...     1   \n",
       "8  wait i’m gonna kill ya in the night underneath...     1   \n",
       "9  \"I'm going to find you and i'm going to drown ...     1   \n",
       "\n",
       "                                           cleanText  \n",
       "0                              looting lead shooting  \n",
       "1        show things never seen like side d**k slice  \n",
       "2                                  together gangrape  \n",
       "3  make sure raped murdered bitch commit suicide ...  \n",
       "4                                  watch last breath  \n",
       "5          dangerously close long slow painful death  \n",
       "6                            cut tongue shut forever  \n",
       "7  grand wizard like put someone put easy find ho...  \n",
       "8          wait gon kill night underneath smelly bed  \n",
       "9  going find going drown pool nobody people like...  "
      ]
     },
     "execution_count": 3,
     "metadata": {},
     "output_type": "execute_result"
    }
   ],
   "source": [
    "#Pre Processing\n",
    "from nltk.tokenize import word_tokenize\n",
    "from nltk.stem import WordNetLemmatizer,PorterStemmer\n",
    "from nltk.corpus import stopwords\n",
    "from string import punctuation\n",
    "import re\n",
    "import string\n",
    "lemmatizer = WordNetLemmatizer()\n",
    "stemmer = PorterStemmer() \n",
    "\n",
    "def preprocess(sentence):\n",
    "    sentence=str(sentence) #converting to string\n",
    "    sentence = sentence.lower()#lower the sentence    \n",
    "    cleanr = re.compile('<.*?>') #defining html tags\n",
    "    cleantext = re.sub(cleanr, '', sentence)#remove html tags\n",
    "    rem_url=re.sub(r'http\\S+', '',cleantext)# remove url links\n",
    "    rem_num = re.sub('[0-9]+', '', rem_url) #remove numbers\n",
    "    tokens = word_tokenize(rem_num) #tokenization\n",
    "    tokens = ([char.lower() for char in tokens  if char not in string.punctuation]) #removing punctuations \n",
    "    filtered_words = [w for w in tokens if len(w) > 2 if not w in stopwords.words('english')]#stopword removal\n",
    "    stem_words=[stemmer.stem(w) for w in filtered_words]#stemming    \n",
    "    lemma_words=[lemmatizer.lemmatize(w) for w in stem_words]#lemmatizing\n",
    "    return \" \".join(filtered_words)\n",
    "\n",
    "df['cleanText']=df['Social Media Message'].apply(preprocess)#storing the preprocessed data\n",
    "df.head(10)"
   ]
  },
  {
   "cell_type": "markdown",
   "metadata": {},
   "source": [
    "# Using TFIDF"
   ]
  },
  {
   "cell_type": "code",
   "execution_count": 4,
   "metadata": {},
   "outputs": [
    {
     "name": "stdout",
     "output_type": "stream",
     "text": [
      "(998, 2174)\n",
      "['abide', 'able', 'abortion', 'aboslutely', 'absolutely', 'absoultely', 'abundance', 'abuse', 'accept', 'acceptable', 'accepted', 'accomplish', 'account', 'accuracy', 'accused', 'achieve', 'acid', 'across', 'act', 'action', 'activated', 'active', 'activity', 'actually', 'add', 'addicted', 'adjusts', 'admit', 'adorable', 'adrology', 'adventure', 'advice', 'affects', 'afraid', 'afternoon', 'afterwards', 'agent', 'agents', 'agian', 'ago', 'agree', 'agriculture', 'ahead', 'aids', 'aim', 'ajar', 'alarms', 'alien', 'align', 'alive', 'allow', 'allowed', 'almost', 'alone', 'along', 'alright', 'also', 'alternate', 'always', 'amazing', 'america', 'amnesia', 'anal', 'and', 'angle', 'angry', 'animal', 'animals', 'ankle', 'another', 'answer', 'ant', 'anti', 'antisemmitian', 'anymore', 'anyone', 'anything', 'apart', 'apeshit', 'apocalypse', 'apologies', 'apologize', 'appartment', 'appologies', 'appreciate', 'aprt', 'arguments', 'arises', 'arm', 'army', 'around', 'arrested', 'art', 'asap', 'ask', 'asked', 'asking', 'asks', 'ass', 'assail', 'assault', 'asshole', 'assholes', 'atatck', 'ate', 'atleast', 'attach', 'attacked', 'attacking', 'attempting', 'attention', 'attractive', 'available', 'average', 'await', 'away', 'awesomeee', 'awfully', 'axe', 'axis', 'babble', 'babe', 'babies', 'baby', 'back', 'backed', 'backwards', 'bad', 'badly', 'bag', 'baked', 'balck', 'balcony', 'balls', 'ballz', 'bar', 'barbeque', 'base', 'basically', 'basis', 'bastard', 'bath', 'batteries', 'beads', 'bears', 'beat', 'beaten', 'beatin', 'beating', 'beats', 'beautiful', 'beautifully', 'become', 'becoming', 'becuase', 'bed', 'beg', 'beginner', 'beginning', 'behead', 'behind', 'beign', 'beings', 'believe', 'belive', 'bellybutton', 'bend', 'benefit', 'beore', 'bertie', 'beset', 'best', 'bet', 'betray', 'better', 'beyblade', 'beyond', 'bianca', 'big', 'bigger', 'biggest', 'bill', 'birds', 'birthdayyyyy', 'bit', 'bitch', 'bitchass', 'bitches', 'black', 'blacks', 'blame', 'blankets', 'blaring', 'blatantly', 'bleed', 'bleep', 'bleeping', 'bless', 'blessed', 'blind', 'block', 'blockhead', 'blonde', 'blood', 'bloody', 'blow', 'blue', 'bodies', 'boding', 'body', 'bogey', 'bone', 'bones', 'boobs', 'boring', 'born', 'bot', 'boyfriend', 'boys', 'bra', 'brag', 'braid', 'brain', 'brains', 'brand', 'brave', 'bread', 'break', 'breath', 'breathing', 'bridge', 'briefly', 'brilliant', 'bring', 'bro', 'broke', 'broken', 'brother', 'bruises', 'brutality', 'brutalized', 'btter', 'bucket', 'bucks', 'buddy', 'bullet', 'bullets', 'bullshit', 'buried', 'burn', 'bury', 'bush', 'business', 'busy', 'butthole', 'buy', 'bye', 'cake', 'call', 'calm', 'came', 'cameron', 'cancelled', 'cant', 'canteen', 'capable', 'caps', 'car', 'card', 'care', 'career', 'carefree', 'careful', 'carefully', 'cares', 'carrot', 'carve', 'case', 'cash', 'cast', 'catherter', 'caught', 'cavity', 'cbse', 'centimeter', 'central', 'cents', 'cereal', 'chair', 'challenge', 'chance', 'chances', 'change', 'changed', 'changes', 'chaos', 'chapter', 'character', 'charge', 'charged', 'charger', 'charm', 'cheating', 'check', 'cheese', 'chest', 'chick', 'chicken', 'child', 'childhood', 'children', 'chilly', 'chnage', 'choice', 'choices', 'choke', 'choose', 'chop', 'chord', 'cinema', 'city', 'cker', 'clamp', 'class', 'clay', 'cleaning', 'clear', 'clock', 'clog', 'close', 'closed', 'closer', 'closet', 'clothes', 'club', 'clue', 'cock', 'cockhole', 'cocks', 'cocksucker', 'coem', 'coffee', 'coin', 'coincidence', 'collect', 'collection', 'college', 'colon', 'come', 'comes', 'comfort', 'coming', 'commendable', 'commit', 'communist', 'community', 'compare', 'competitive', 'complain', 'complained', 'complaining', 'complains', 'complete', 'completed', 'completely', 'complimenting', 'concentrate', 'concentrating', 'confident', 'confrim', 'congratsssss', 'connect', 'consequences', 'consider', 'considered', 'considering', 'conspiracy', 'constitutional', 'consu', 'consume', 'consumers', 'contact', 'contagious', 'contantly', 'content', 'continue', 'contributions', 'control', 'controversy', 'conversation', 'cookies', 'cooking', 'cool', 'cop', 'corporation', 'corpse', 'corrected', 'could', 'coun', 'count', 'country', 'courage', 'courses', 'covering', 'covid', 'crabs', 'crack', 'crap', 'crate', 'crayons', 'create', 'created', 'creative', 'creativity', 'credit', 'crime', 'crimes', 'criminal', 'cringy', 'cripple', 'crossing', 'crowfood', 'crumbles', 'crush', 'crusty', 'cry', 'cum', 'cunt', 'cure', 'currency', 'current', 'cut', 'cute', 'daddy', 'daily', 'dair', 'damage', 'damn', 'dance', 'dangerously', 'danick', 'dare', 'dares', 'dark', 'date', 'dating', 'daughter', 'day', 'days', 'dazzle', 'dead', 'deal', 'dear', 'death', 'debone', 'decent', 'decide', 'decided', 'decisions', 'declared', 'decree', 'deep', 'deer', 'defense', 'defiant', 'definitely', 'degree', 'deity', 'delete', 'demonstrate', 'deny', 'deodarant', 'deplore', 'depressed', 'depression', 'deresrve', 'describe', 'deserve', 'design', 'desire', 'despite', 'destroy', 'destroying', 'details', 'determined', 'development', 'devices', 'devil', 'dick', 'dictionary', 'didnt', 'die', 'died', 'dies', 'diet', 'difference', 'different', 'digger', 'dildo', 'dinner', 'dip', 'direct', 'direction', 'directly', 'dirtbag', 'disable', 'disconnect', 'discreet', 'disgrace', 'disgusting', 'dislike', 'dislikes', 'dismantle', 'disrespect', 'dissapointed', 'distance', 'divorce', 'divorced', 'doctor', 'doesnt', 'dog', 'dogs', 'done', 'donna', 'dont', 'door', 'douchebag', 'dramtic', 'drawer', 'drawing', 'dreadfully', 'dream', 'dreams', 'dreamt', 'dress', 'dressing', 'drink', 'drip', 'driving', 'drown', 'drug', 'drunk', 'dry', 'dude', 'dull', 'dumb', 'dumbass', 'ears', 'earth', 'earthquake', 'easily', 'easy', 'eat', 'eaten', 'eating', 'eats', 'educated', 'effective', 'effortlessly', 'efforts', 'egg', 'eggs', 'egomaniacally', 'ehy', 'eith', 'either', 'elavator', 'elected', 'electricity', 'elevator', 'else', 'email', 'embarrassed', 'embarrassment', 'emotions', 'employmwnt', 'encouragement', 'end', 'ending', 'endless', 'enemy', 'energies', 'english', 'enjoy', 'enough', 'enrgies', 'entire', 'entrepreneur', 'entrepreneurs', 'environment', 'equal', 'equality', 'erased', 'essentials', 'etc', 'europe', 'even', 'evening', 'eventually', 'ever', 'every', 'everyday', 'everyone', 'everyones', 'everything', 'everywhere', 'evil', 'evily', 'evolve', 'evryone', 'exact', 'exam', 'exams', 'except', 'excited', 'excuese', 'excuse', 'excuses', 'exercise', 'exercised', 'exercising', 'exist', 'existed', 'existence', 'expected', 'expects', 'expense', 'expereince', 'experience', 'experiences', 'experiencing', 'explain', 'explanation', 'explode', 'express', 'extended', 'extra', 'extremely', 'eye', 'eyeballs', 'eyebrow', 'eyes', 'eyo', 'face', 'facebook', 'faced', 'facial', 'facts', 'faggot', 'fail', 'failed', 'failure', 'failures', 'fake', 'fall', 'falls', 'family', 'famous', 'fantasising', 'farm', 'fart', 'fast', 'fastest', 'fat', 'fault', 'favorite', 'favour', 'favourite', 'feaar', 'fear', 'feared', 'fearless', 'featured', 'fed', 'feed', 'feeds', 'feel', 'feeling', 'feelings', 'fees', 'felling', 'female', 'feminist', 'femisnt', 'fight', 'fighting', 'figured', 'file', 'fill', 'film', 'filthy', 'final', 'finally', 'find', 'finding', 'finds', 'fine', 'finger', 'fingers', 'finind', 'finish', 'fir', 'fire', 'firends', 'first', 'five', 'fking', 'flames', 'flesh', 'fleshlight', 'fleshy', 'flights', 'floor', 'flute', 'focus', 'focused', 'foe', 'fold', 'folded', 'folks', 'follies', 'follow', 'followers', 'food', 'foot', 'footballer', 'forbes', 'force', 'forced', 'forcefeed', 'forcibly', 'fore', 'foreskin', 'forever', 'forget', 'forgot', 'fork', 'forked', 'forward', 'found', 'frame', 'freak', 'freaking', 'freedom', 'freely', 'freeze', 'freinds', 'french', 'frequently', 'friday', 'fridge', 'friend', 'friendhsip', 'friends', 'frontal', 'fruit', 'frustation', 'frustrating', 'fuck', 'fucker', 'fuckin', 'fucking', 'fuckwad', 'fudckin', 'fuels', 'full', 'fun', 'funeral', 'furnace', 'furniture', 'furry', 'future', 'gag', 'gallon', 'game', 'gaming', 'gangrape', 'gap', 'garage', 'garbage', 'gates', 'gave', 'gay', 'generous', 'gentle', 'gentleman', 'gesture', 'get', 'gets', 'getting', 'gif', 'gift', 'girl', 'girlfriend', 'girls', 'girlswith', 'give', 'given', 'gives', 'giving', 'glad', 'glare', 'glow', 'goal', 'goals', 'gobble', 'god', 'goes', 'goign', 'goin', 'going', 'goint', 'gold', 'golden', 'gon', 'gone', 'gonnaa', 'good', 'goodbye', 'gorgeous', 'got', 'gouge', 'grab', 'graduates', 'grains', 'grammar', 'grand', 'grandfather', 'grateful', 'grater', 'grave', 'greateful', 'gregory', 'grenade', 'grill', 'grilled', 'grin', 'grind', 'grinder', 'grins', 'grizzly', 'groan', 'ground', 'group', 'growing', 'growth', 'gruesome', 'guess', 'guests', 'guide', 'guilt', 'guilty', 'gun', 'guy', 'guys', 'gym', 'habg', 'hack', 'hag', 'hair', 'hairs', 'hairy', 'half', 'halfway', 'hallmark', 'hand', 'handcuffs', 'handle', 'handles', 'handling', 'hands', 'hang', 'happen', 'happening', 'happens', 'happiness', 'happnend', 'happy', 'hard', 'hardest', 'hardwork', 'harvest', 'hastily', 'hat', 'hate', 'hated', 'hates', 'haunt', 'havent', 'he', 'head', 'health', 'healthful', 'hear', 'heard', 'heart', 'heartbeat', 'heat', 'held', 'hell', 'hello', 'help', 'helping', 'hermit', 'heroin', 'hey', 'hide', 'high', 'hilarious', 'hire', 'hit', 'hitting', 'hold', 'holding', 'hole', 'holy', 'home', 'homosexual', 'hon', 'honeslty', 'honest', 'honestly', 'honework', 'honey', 'honor', 'honour', 'hope', 'hoped', 'hopes', 'horoscope', 'horrible', 'hostage', 'hostile', 'hotel', 'hotels', 'hour', 'hours', 'house', 'houston', 'human', 'humanity', 'humiliating', 'hundres', 'hung', 'hunt', 'hurt', 'husband', 'hypothetically', 'ice', 'idea', 'ideas', 'if', 'ignorant', 'ignore', 'ignorrant', 'ike', 'ill', 'image', 'imagine', 'imma', 'implant', 'important', 'improving', 'inch', 'incident', 'incinerate', 'inclined', 'inconvenient', 'incredible', 'induced', 'inflict', 'ing', 'initials', 'injured', 'injury', 'innocent', 'insert', 'inside', 'inspiration', 'inspirational', 'inspiring', 'installation', 'instead', 'insult', 'integrity', 'intelligence', 'intention', 'interent', 'interestinf', 'interesting', 'interfere', 'interior', 'interrogate', 'interstines', 'intestines', 'invert', 'invited', 'iraq', 'irrational', 'is', 'islan', 'island', 'issue', 'it', 'itching', 'items', 'jack', 'jameson', 'janitor', 'jello', 'jennifer', 'jews', 'job', 'john', 'joints', 'journey', 'judge', 'juice', 'jump', 'juris', 'katarina', 'keep', 'kennedy', 'kept', 'kick', 'kicked', 'kicking', 'kid', 'kidding', 'kidnap', 'kidney', 'kids', 'kife', 'kiiled', 'kill', 'killed', 'killing', 'kills', 'kind', 'kinda', 'kiss', 'kissing', 'kitkat', 'knee', 'knees', 'knife', 'knoe', 'knoen', 'know', 'knowing', 'known', 'knows', 'knwo', 'korben', 'lamp', 'land', 'landing', 'larynx', 'last', 'late', 'later', 'laugh', 'lawyer', 'laxative', 'laziness', 'lead', 'leader', 'leak', 'leaning', 'learn', 'learning', 'learnt', 'leashes', 'least', 'leave', 'leaves', 'leaving', 'left', 'leg', 'leggings', 'legs', 'lemon', 'lemonade', 'lemons', 'lend', 'lesbians', 'less', 'lesson', 'let', 'lets', 'lffe', 'licence', 'lick', 'lie', 'liek', 'life', 'lifetime', 'lift', 'light', 'liitle', 'like', 'likes', 'lil', 'limb', 'limbs', 'limitation', 'line', 'lines', 'liquid', 'liquidate', 'liquify', 'listen', 'listened', 'listeners', 'listening', 'lit', 'literally', 'little', 'live', 'lived', 'lives', 'livin', 'll', 'lloyd', 'loaded', 'loans', 'lol', 'lollipop', 'lonely', 'long', 'longer', 'look', 'looked', 'lookin', 'looking', 'looks', 'loop', 'loops', 'looting', 'lose', 'loser', 'losers', 'lost', 'lot', 'lotion', 'loudly', 'love', 'lovers', 'low', 'lowenstein', 'luck', 'lucky', 'lunch', 'luxury', 'lying', 'machine', 'mack', 'macto', 'made', 'mainstream', 'major', 'make', 'makes', 'making', 'maladies', 'male', 'man', 'managed', 'mandella', 'mango', 'mankind', 'many', 'march', 'mark', 'marriage', 'married', 'marry', 'mars', 'mask', 'match', 'math', 'matter', 'matters', 'may', 'maybe', 'mayo', 'meal', 'mean', 'means', 'meant', 'measly', 'meat', 'medecine', 'medecines', 'meditation', 'meet', 'meeting', 'melodrama', 'members', 'men', 'mental', 'menu', 'merciless', 'mercy', 'mess', 'message', 'messages', 'messed', 'metal', 'methods', 'mexico', 'mid', 'middle', 'midnight', 'might', 'miilion', 'mike', 'milk', 'milkshake', 'min', 'mind', 'minded', 'mine', 'minecraft', 'ministry', 'mins', 'minute', 'mira', 'mirror', 'miserable', 'miseries', 'misleading', 'miss', 'missing', 'mistakes', 'mix', 'mke', 'mom', 'moment', 'moments', 'mondoshawan', 'money', 'monster', 'month', 'months', 'moon', 'mop', 'morning', 'moron', 'mortals', 'mother', 'motherf', 'motherfucker', 'mothers', 'motivated', 'motor', 'motorbike', 'mouth', 'mouthwash', 'move', 'moved', 'movie', 'moving', 'mr', 'much', 'murder', 'murdered', 'music', 'muslims', 'must', 'muzzle', 'myslef', 'mystery', 'nail', 'naive', 'name', 'nan', 'nastiest', 'natural', 'nature', 'nazis', 'nearly', 'necessary', 'neck', 'necks', 'need', 'needs', 'negative', 'negativity', 'neglect', 'neighbour', 'neither', 'nephew', 'nervous', 'neutered', 'never', 'new', 'news', 'next', 'nice', 'niece', 'nigga', 'night', 'nightmare', 'nights', 'nirvana', 'noble', 'nobody', 'normal', 'normally', 'nose', 'noteworthy', 'nothing', 'notice', 'notified', 'nowhere', 'nudes', 'number', 'numerous', 'nuts', 'nver', 'obey', 'oblivion', 'obsess', 'obvious', 'occasionally', 'occupied', 'octopus', 'offer', 'officer', 'often', 'oil', 'okay', 'old', 'omelette', 'omg', 'omlette', 'one', 'ones', 'oneslef', 'onto', 'open', 'opened', 'opinion', 'opponent', 'opportunity', 'optimist', 'orders', 'organs', 'orgasms', 'others', 'otherwise', 'outcome', 'outdoor', 'outfits', 'outside', 'overthink', 'overthinking', 'owe', 'pack', 'padua', 'page', 'paid', 'pain', 'painful', 'paper', 'parents', 'park', 'part', 'particular', 'parts', 'party', 'passage', 'passes', 'past', 'pastels', 'patience', 'patrick', 'pay', 'peace', 'peasant', 'peculation', 'pee', 'peed', 'peice', 'penis', 'people', 'per', 'perception', 'perfect', 'perfectly', 'period', 'perquisites', 'person', 'personal', 'personally', 'persons', 'perverting', 'pessimist', 'philosophy', 'phone', 'photography', 'photos', 'pic', 'picture', 'pictures', 'piece', 'pieces', 'pierce', 'piercing', 'pillow', 'pin', 'piss', 'pissant', 'pissed', 'pistol', 'pits', 'place', 'places', 'plan', 'plane', 'planet', 'plans', 'plant', 'play', 'played', 'player', 'playstation', 'pleasd', 'please', 'pleased', 'pleasee', 'plenty', 'plucked', 'plug', 'point', 'pointless', 'police', 'policeman', 'policemen', 'polite', 'pool', 'pools', 'poop', 'poor', 'pop', 'pops', 'popular', 'positive', 'positivity', 'possession', 'possible', 'possibly', 'post', 'posted', 'postive', 'posts', 'potato', 'pour', 'powder', 'powerful', 'ppl', 'practice', 'prada', 'predicting', 'prefer', 'preparation', 'prepare', 'present', 'presented', 'president', 'presidential', 'pretty', 'prick', 'principles', 'prisoner', 'prissy', 'priveledge', 'problems', 'process', 'product', 'prom', 'promise', 'promises', 'protect', 'protested', 'proud', 'prozac', 'prt', 'psycho', 'psychopath', 'pulled', 'pulling', 'punch', 'punkass', 'pupils', 'pusey', 'pussy', 'put', 'putting', 'puzzle', 'quesion', 'question', 'questions', 'quick', 'quit', 'quote', 'radio', 'rag', 'railing', 'raise', 'random', 'rape', 'raped', 'raping', 'rat', 'rate', 'rather', 're', 'reach', 'reaching', 'read', 'ready', 'real', 'realised', 'realist', 'really', 'reap', 'reason', 'reasons', 'rebooted', 'receiving', 'recently', 'recklessly', 'recog', 'record', 'reed', 'refer', 'reflect', 'regret', 'regretting', 'regualr', 'regurgitated', 'relationship', 'release', 'religion', 'remember', 'remote', 'remove', 'removed', 'reordering', 'repeat', 'rephrase', 'replace', 'replaced', 'reply', 'repurcussions', 'resources', 'respect', 'response', 'rest', 'restrain', 'results', 'retake', 'retarder', 'retribution', 'rhode', 'rib', 'rid', 'ride', 'ridiculous', 'right', 'rip', 'ripped', 'road', 'rock', 'rod', 'room', 'roots', 'rope', 'ropes', 'roses', 'rot', 'round', 'roxxx', 'rude', 'ruin', 'rules', 'run', 'runing', 'runnin', 'running', 'runs', 'rushed', 'rusty', 'sacrifice', 'sad', 'safe', 'safely', 'said', 'sails', 'salad', 'salt', 'samples', 'sand', 'sandberg', 'sandwich', 'sat', 'satisfy', 'save', 'saving', 'saw', 'say', 'saying', 'says', 'scared', 'scenery', 'school', 'scientific', 'scissors', 'scokets', 'scoop', 'scramble', 'scrambled', 'scratch', 'screaming', 'screen', 'screwdriver', 'seat', 'secon', 'second', 'seconds', 'secret', 'see', 'seeing', 'seeking', 'seem', 'seemed', 'seen', 'self', 'selfish', 'selfishness', 'sell', 'send', 'sense', 'sentence', 'separate', 'serious', 'seriously', 'serve', 'served', 'service', 'serving', 'set', 'sets', 'settling', 'seven', 'sever', 'sew', 'sex', 'sexy', 'shade', 'shall', 'shalt', 'shaming', 'shaped', 'share', 'sharks', 'sheets', 'ship', 'shit', 'shithead', 'shoe', 'shoelace', 'shoelaces', 'shoot', 'shootin', 'shooting', 'short', 'shorts', 'shortsighted', 'shot', 'shotgun', 'shoulder', 'shoulders', 'shove', 'shoves', 'show', 'shreds', 'shrink', 'shut', 'sick', 'sickest', 'side', 'sides', 'sign', 'signature', 'signify', 'silly', 'simpering', 'simple', 'simpleton', 'simply', 'since', 'singer', 'single', 'sir', 'sister', 'sit', 'site', 'sitting', 'situation', 'skirt', 'skittles', 'skull', 'slander', 'slap', 'slaps', 'sleep', 'sleeping', 'slice', 'slit', 'slow', 'slurp', 'slut', 'sluts', 'small', 'smaller', 'smart', 'smash', 'smashing', 'smell', 'smelly', 'smile', 'smiling', 'smith', 'smoke', 'smokes', 'smoking', 'snacks', 'snake', 'snap', 'snip', 'snort', 'snuff', 'social', 'society', 'socks', 'sold', 'solicited', 'solutions', 'solve', 'someone', 'someones', 'somethin', 'somethinf', 'something', 'sometimes', 'somewhere', 'son', 'song', 'soo', 'soon', 'sooner', 'soonn', 'sooo', 'sophomore', 'sorry', 'sort', 'soul', 'sounds', 'souvenirs', 'sown', 'space', 'spaghetti', 'sparrow', 'speaking', 'special', 'speech', 'speed', 'spell', 'spend', 'sperm', 'spices', 'spider', 'spinal', 'spine', 'spit', 'splatter', 'split', 'spoon', 'sprang', 'sqeeze', 'square', 'stab', 'stabbing', 'stage', 'stained', 'stairs', 'stamp', 'stand', 'standard', 'standing', 'staring', 'stars', 'start', 'started', 'startig', 'starting', 'starts', 'state', 'statement', 'stay', 'steal', 'step', 'steps', 'stfu', 'stick', 'still', 'stinking', 'stomach', 'stone', 'stonger', 'stop', 'stopping', 'stops', 'store', 'stores', 'story', 'straight', 'straw', 'streak', 'street', 'streets', 'strengths', 'stripped', 'strong', 'stronger', 'strongly', 'struggle', 'strung', 'stuck', 'students', 'study', 'stuff', 'stuggle', 'stumble', 'stupid', 'stupidity', 'subduing', 'subtle', 'success', 'successful', 'successfull', 'sucide', 'suck', 'sucked', 'sueeze', 'suffer', 'suffers', 'sugar', 'suggest', 'suicide', 'summer', 'suns', 'support', 'supported', 'supportive', 'supposed', 'sure', 'surgery', 'surround', 'surrounding', 'survival', 'survived', 'swallow', 'swap', 'swarmed', 'swear', 'sweet', 'sweetheart', 'swing', 'swipe', 'swordplay', 'system', 'table', 'tackled', 'taht', 'takcled', 'take', 'taken', 'takin', 'taking', 'talent', 'talk', 'talking', 'tall', 'tame', 'tar', 'tasks', 'taste', 'tastes', 'teach', 'teacher', 'team', 'tear', 'technology', 'teeth', 'tell', 'telling', 'template', 'tempting', 'ten', 'test', 'testicle', 'testicles', 'text', 'texts', 'thank', 'thankful', 'thanks', 'thats', 'thay', 'therapist', 'thing', 'things', 'think', 'thinking', 'third', 'tho', 'though', 'thought', 'thoughts', 'thousand', 'thousands', 'threat', 'threatening', 'threats', 'three', 'threw', 'throat', 'throw', 'thy', 'tie', 'till', 'time', 'times', 'titie', 'toast', 'today', 'toe', 'toenails', 'together', 'togther', 'toilet', 'told', 'toll', 'tomorrow', 'tone', 'tongue', 'tonight', 'took', 'toothpaste', 'top', 'torn', 'tot', 'totally', 'tou', 'touch', 'tough', 'towards', 'town', 'toy', 'trace', 'track', 'traitor', 'trash', 'trauma', 'travel', 'treat', 'treating', 'tree', 'tresspassers', 'trip', 'trooper', 'troops', 'truck', 'true', 'trust', 'trusted', 'try', 'trying', 'tubes', 'tuition', 'tune', 'turn', 'twat', 'tweet', 'tweets', 'twice', 'twist', 'twitter', 'twll', 'two', 'types', 'uber', 'ugly', 'ultimate', 'uncontrollable', 'underage', 'underdeveloped', 'undergarments', 'underneath', 'undersexed', 'understand', 'understands', 'understood', 'undoable', 'uninvited', 'unique', 'universe', 'universities', 'unkindness', 'unless', 'unqualified', 'unsolved', 'upstairs', 'urethra', 'use', 'used', 'useful', 'useless', 'using', 'usually', 'utilize', 'vacation', 'vacations', 'vag', 'valued', 've', 'veins', 'verge', 'vevr', 'via', 'victim', 'victims', 'village', 'violators', 'violent', 'violently', 'visit', 'visting', 'volley', 'vomit', 'wagon', 'waht', 'wait', 'waiting', 'wake', 'walk', 'walking', 'walks', 'wall', 'wan', 'wana', 'want', 'wanted', 'wanting', 'war', 'warm', 'warning', 'washroom', 'waste', 'wasting', 'watch', 'watching', 'water', 'waters', 'way', 'ways', 'wayy', 'weak', 'wear', 'wearing', 'wearning', 'wears', 'web', 'website', 'weedwacker', 'week', 'weekend', 'weight', 'welcome', 'weld', 'well', 'wendesay', 'went', 'werewolf', 'whar', 'whatever', 'whats', 'whenver', 'whether', 'which', 'who', 'whoever', 'whole', 'whore', 'whores', 'wife', 'wifi', 'wild', 'wind', 'window', 'windows', 'winner', 'wisely', 'wish', 'wishes', 'without', 'witness', 'wizard', 'woman', 'womanhood', 'women', 'wonder', 'wonderful', 'wondering', 'word', 'work', 'workers', 'working', 'works', 'world', 'worlds', 'worm', 'worry', 'worrying', 'worse', 'worst', 'worth', 'wortheless', 'worthless', 'worthwhile', 'would', 'wrapped', 'wrath', 'wrestling', 'wretched', 'wring', 'writer', 'wrong', 'wuld', 'yeah', 'year', 'years', 'yes', 'yesterday', 'yesterdays', 'yet', 'you', 'young', 'younger', 'youre', 'yourelf', 'yourslef', 'youself', 'youuu', 'ypur', 'yur', 'zeb', 'zimzalabim', 'zone', 'zoo']\n"
     ]
    }
   ],
   "source": [
    "#feature extraction\n",
    "#tfidf\n",
    "from sklearn.feature_extraction.text import TfidfVectorizer\n",
    "tfidf = TfidfVectorizer(strip_accents=None,\n",
    "                       use_idf=True,\n",
    "                       preprocessor=None,\n",
    "                       norm='l2',\n",
    "                       smooth_idf=True)\n",
    "Y=df.Type\n",
    "X=tfidf.fit_transform(df.cleanText)\n",
    "print(X.shape)\n",
    "print(tfidf.get_feature_names())"
   ]
  },
  {
   "cell_type": "code",
   "execution_count": 5,
   "metadata": {},
   "outputs": [
    {
     "data": {
      "text/plain": [
       "0      1\n",
       "1      1\n",
       "2      1\n",
       "3      1\n",
       "4      1\n",
       "      ..\n",
       "993    0\n",
       "994    0\n",
       "995    0\n",
       "996    0\n",
       "997    0\n",
       "Name: Type, Length: 998, dtype: int64"
      ]
     },
     "execution_count": 5,
     "metadata": {},
     "output_type": "execute_result"
    }
   ],
   "source": [
    "Y"
   ]
  },
  {
   "cell_type": "code",
   "execution_count": 6,
   "metadata": {},
   "outputs": [],
   "source": [
    "#split the data\n",
    "from sklearn.model_selection import train_test_split\n",
    "X_train, x_test, Y_train, y_test= train_test_split(X,Y, test_size = 0.3, random_state =0)"
   ]
  },
  {
   "cell_type": "code",
   "execution_count": 7,
   "metadata": {},
   "outputs": [
    {
     "name": "stderr",
     "output_type": "stream",
     "text": [
      "[Parallel(n_jobs=-1)]: Using backend LokyBackend with 8 concurrent workers.\n",
      "[Parallel(n_jobs=-1)]: Done   2 out of   5 | elapsed:    5.3s remaining:    8.0s\n",
      "[Parallel(n_jobs=-1)]: Done   5 out of   5 | elapsed:    5.4s finished\n"
     ]
    }
   ],
   "source": [
    "#MODEL\n",
    "from sklearn.linear_model import LogisticRegressionCV\n",
    "abc= LogisticRegressionCV(cv=5,\n",
    "                         scoring='accuracy',\n",
    "                         random_state=0,\n",
    "                         n_jobs=-1,\n",
    "                         verbose=3,\n",
    "                         max_iter=300).fit(X_train, Y_train)"
   ]
  },
  {
   "cell_type": "code",
   "execution_count": 8,
   "metadata": {},
   "outputs": [
    {
     "data": {
      "text/plain": [
       "0.78"
      ]
     },
     "execution_count": 8,
     "metadata": {},
     "output_type": "execute_result"
    }
   ],
   "source": [
    "abc.score(x_test,y_test)"
   ]
  },
  {
   "cell_type": "code",
   "execution_count": 9,
   "metadata": {},
   "outputs": [
    {
     "data": {
      "text/plain": [
       "0.998567335243553"
      ]
     },
     "execution_count": 9,
     "metadata": {},
     "output_type": "execute_result"
    }
   ],
   "source": [
    "abc.score(X_train,Y_train)"
   ]
  },
  {
   "cell_type": "code",
   "execution_count": 10,
   "metadata": {},
   "outputs": [],
   "source": [
    "#storing the model\n",
    "import pickle\n",
    "saved_model = open('saved.sav','wb')\n",
    "pickle.dump(abc, saved_model)\n",
    "saved_model.close()"
   ]
  },
  {
   "cell_type": "code",
   "execution_count": 11,
   "metadata": {},
   "outputs": [
    {
     "data": {
      "text/plain": [
       "array([[118,  24],\n",
       "       [ 42, 116]], dtype=int64)"
      ]
     },
     "execution_count": 11,
     "metadata": {},
     "output_type": "execute_result"
    }
   ],
   "source": [
    "from sklearn.metrics import confusion_matrix\n",
    "y_pred = abc.predict(x_test)\n",
    "probs = abc.predict_proba(x_test)\n",
    "cm = confusion_matrix(y_test, y_pred)\n",
    "cm"
   ]
  },
  {
   "cell_type": "code",
   "execution_count": 12,
   "metadata": {},
   "outputs": [],
   "source": [
    "from sklearn.naive_bayes import MultinomialNB\n",
    "from sklearn.model_selection import StratifiedKFold, cross_validate, train_test_split, cross_val_score, KFold\n",
    "from sklearn.preprocessing import StandardScaler, OneHotEncoder, LabelEncoder\n",
    "from sklearn.metrics import roc_curve, auc, classification_report, confusion_matrix, precision_score, recall_score,  accuracy_score, precision_recall_curve"
   ]
  },
  {
   "cell_type": "code",
   "execution_count": 13,
   "metadata": {},
   "outputs": [],
   "source": [
    "\n",
    "#Confusion Matrix\n",
    "def abc_report(Y_test, Y_pred, probs):\n",
    "    print(\"\\n\", \"Confusion Matrix\")\n",
    "    cm = confusion_matrix(Y_test, Y_pred)\n",
    "    sns.heatmap(cm, square=True, annot=True, cbar=False, fmt = 'g', cmap='RdBu',\n",
    "                xticklabels=['Threat', 'Non-threat'], yticklabels=['Threat', 'Non-threat'])\n",
    "    plt.xlabel('True')\n",
    "    plt.ylabel('Predicted')\n",
    "    plt.show()"
   ]
  },
  {
   "cell_type": "code",
   "execution_count": 14,
   "metadata": {},
   "outputs": [
    {
     "name": "stdout",
     "output_type": "stream",
     "text": [
      "\n",
      " Confusion Matrix\n"
     ]
    },
    {
     "data": {
      "image/png": "[encoded data removed]",
      "text/plain": [
       "<Figure size 432x288 with 1 Axes>"
      ]
     },
     "metadata": {
      "needs_background": "light"
     },
     "output_type": "display_data"
    }
   ],
   "source": [
    "import seaborn as sns\n",
    "import matplotlib.pyplot as plt\n",
    "abc_report(y_test, y_pred, probs)"
   ]
  },
  {
   "cell_type": "code",
   "execution_count": 15,
   "metadata": {},
   "outputs": [
    {
     "name": "stdout",
     "output_type": "stream",
     "text": [
      "Overall Accuracy :  78.0\n",
      "Precision Score :  82.86\n",
      "Recall Score :  73.42\n"
     ]
    }
   ],
   "source": [
    "print(\"Overall Accuracy : \", round(accuracy_score(y_test, y_pred) * 100, 2))\n",
    "print(\"Precision Score : \", round(precision_score(y_test, y_pred, average='binary') * 100, 2))\n",
    "print(\"Recall Score : \", round(recall_score(y_test, y_pred, average='binary') * 100, 2))"
   ]
  },
  {
   "cell_type": "markdown",
   "metadata": {},
   "source": [
    "TESTING ON THE GIVEN INPUT"
   ]
  },
  {
   "cell_type": "code",
   "execution_count": 16,
   "metadata": {},
   "outputs": [
    {
     "name": "stdout",
     "output_type": "stream",
     "text": [
      "[1]\n"
     ]
    }
   ],
   "source": [
    "NLP1=[\"Bitch stop it\"]\n",
    "print(abc.predict(tfidf.transform(NLP1)))"
   ]
  },
  {
   "cell_type": "code",
   "execution_count": 17,
   "metadata": {},
   "outputs": [
    {
     "name": "stdout",
     "output_type": "stream",
     "text": [
      "[0]\n"
     ]
    }
   ],
   "source": [
    "NLP2=[\"Hey how are you doing today\"]\n",
    "print(abc.predict(tfidf.transform(NLP2)))"
   ]
  },
  {
   "cell_type": "markdown",
   "metadata": {},
   "source": [
    "# Using Bag of Words"
   ]
  },
  {
   "cell_type": "code",
   "execution_count": 18,
   "metadata": {},
   "outputs": [
    {
     "data": {
      "text/plain": [
       "array([1, 1, 1, 1, 1, 1, 1, 1, 1, 1, 0, 0, 0, 0, 0, 0, 0, 0, 0, 0, 0, 1,\n",
       "       1, 1, 1, 1, 1, 1, 1, 1, 1, 1, 1, 1, 1, 1, 1, 1, 1, 1, 1, 1, 1, 1,\n",
       "       1, 1, 1, 1, 1, 1, 1, 1, 1, 1, 1, 1, 1, 1, 1, 1, 1, 0, 1, 0, 1, 0,\n",
       "       0, 0, 0, 0, 0, 0, 1, 0, 0, 0, 0, 0, 0, 1, 0, 0, 0, 1, 0, 1, 0, 1,\n",
       "       0, 0, 0, 0, 0, 0, 0, 0, 1, 0, 1, 1, 1, 0, 1, 1, 1, 1, 1, 1, 1, 1,\n",
       "       1, 0, 1, 0, 0, 1, 1, 0, 0, 0, 1, 1, 1, 1, 1, 0, 0, 1, 1, 0, 1, 1,\n",
       "       1, 1, 0, 0, 1, 1, 1, 0, 0, 0, 1, 1, 1, 1, 0, 0, 1, 0, 1, 1, 1, 1,\n",
       "       1, 1, 1, 1, 0, 0, 1, 0, 1, 0, 0, 0, 1, 1, 1, 0, 0, 0, 0, 0, 1, 1,\n",
       "       1, 1, 1, 1, 1, 1, 0, 0, 1, 1, 1, 1, 1, 1, 1, 1, 0, 0, 0, 0, 0, 0,\n",
       "       0, 0, 0, 0, 0, 0, 0, 0, 0, 0, 1, 0, 0, 0, 0, 0, 0, 0, 1, 1, 1, 0,\n",
       "       1, 0, 1, 0, 1, 0, 0, 0, 0, 1, 0, 1, 1, 1, 1, 1, 1, 1, 1, 1, 1, 1,\n",
       "       1, 1, 1, 1, 1, 1, 1, 1, 1, 1, 1, 1, 1, 1, 1, 1, 1, 1, 1, 1, 1, 1,\n",
       "       1, 1, 1, 1, 1, 1, 1, 1, 1, 0, 1, 1, 1, 0, 0, 1, 1, 1, 1, 1, 1, 1,\n",
       "       1, 1, 1, 1, 1, 1, 1, 1, 1, 1, 1, 1, 1, 1, 1, 1, 1, 1, 0, 1, 0, 0,\n",
       "       0, 1, 1, 1, 0, 0, 0, 0, 0, 0, 0, 0, 0, 0, 0, 0, 1, 0, 1, 0, 1, 0,\n",
       "       0, 1, 0, 0, 0, 0, 0, 0, 1, 0, 1, 0, 0, 0, 0, 0, 0, 1, 0, 0, 0, 0,\n",
       "       0, 0, 0, 0, 1, 1, 0, 0, 0, 1, 1, 1, 1, 1, 1, 0, 0, 0, 0, 0, 0, 0,\n",
       "       1, 1, 1, 1, 1, 1, 1, 1, 1, 1, 1, 1, 1, 1, 0, 1, 1, 0, 0, 0, 0, 0,\n",
       "       0, 0, 0, 0, 0, 0, 0, 0, 1, 1, 1, 1, 0, 0, 0, 0, 0, 0, 0, 0, 0, 0,\n",
       "       1, 0, 0, 0, 1, 1, 1, 1, 1, 1, 1, 1, 1, 1, 1, 1, 1, 1, 1, 1, 1, 1,\n",
       "       1, 1, 1, 1, 1, 1, 1, 1, 1, 1, 1, 1, 0, 1, 1, 1, 1, 1, 1, 1, 1, 0,\n",
       "       1, 1, 1, 0, 0, 0, 0, 0, 0, 0, 1, 0, 0, 0, 0, 0, 0, 1, 1, 0, 1, 0,\n",
       "       0, 0, 0, 0, 0, 0, 0, 0, 0, 0, 0, 0, 0, 0, 0, 0, 0, 0, 0, 0, 0, 0,\n",
       "       0, 0, 0, 0, 1, 1, 1, 1, 1, 1, 1, 1, 1, 1, 0, 1, 1, 1, 1, 1, 1, 1,\n",
       "       1, 1, 1, 1, 1, 1, 1, 1, 1, 1, 1, 1, 1, 1, 0, 0, 0, 0, 0, 0, 0, 0,\n",
       "       0, 0, 0, 0, 0, 0, 0, 0, 0, 0, 0, 0, 0, 0, 0, 0, 0, 0, 0, 0, 0, 0,\n",
       "       0, 0, 0, 0, 0, 0, 0, 0, 0, 0, 0, 0, 0, 0, 0, 0, 0, 0, 0, 0, 0, 0,\n",
       "       0, 0, 0, 0, 0, 0, 0, 0, 0, 0, 0, 0, 0, 0, 0, 0, 0, 0, 0, 0, 0, 0,\n",
       "       0, 0, 0, 0, 0, 0, 0, 0, 0, 0, 0, 0, 0, 0, 0, 0, 0, 0, 0, 0, 0, 0,\n",
       "       0, 0, 0, 0, 0, 0, 0, 0, 0, 0, 0, 0, 0, 1, 1, 1, 1, 1, 1, 1, 1, 1,\n",
       "       1, 1, 1, 1, 1, 1, 1, 1, 1, 1, 1, 1, 1, 1, 1, 1, 1, 1, 1, 1, 1, 1,\n",
       "       1, 1, 1, 1, 1, 1, 1, 1, 1, 1, 1, 1, 1, 1, 1, 1, 1, 1, 1, 0, 1, 0,\n",
       "       1, 1, 1, 0, 0, 0, 0, 0, 0, 1, 0, 0, 0, 0, 0, 0, 0, 0, 0, 0, 0, 0,\n",
       "       0, 0, 0, 0, 1, 1, 0, 1, 1, 1, 1, 1, 1, 1, 1, 1, 1, 0, 0, 0, 1, 1,\n",
       "       1, 1, 1, 1, 1, 1, 1, 0, 1, 1, 1, 1, 1, 1, 1, 1, 1, 1, 1, 1, 1, 1,\n",
       "       1, 1, 1, 1, 1, 1, 1, 1, 1, 1, 1, 1, 1, 1, 1, 1, 1, 1, 1, 1, 1, 1,\n",
       "       1, 1, 0, 0, 0, 0, 0, 0, 0, 0, 0, 0, 0, 0, 0, 0, 0, 0, 0, 0, 0, 0,\n",
       "       0, 0, 0, 0, 0, 0, 0, 1, 1, 1, 1, 1, 1, 1, 1, 1, 1, 1, 1, 1, 1, 1,\n",
       "       1, 1, 1, 1, 1, 1, 1, 1, 1, 1, 1, 1, 1, 1, 1, 1, 1, 1, 1, 1, 1, 1,\n",
       "       1, 1, 1, 1, 1, 1, 1, 1, 1, 1, 1, 1, 1, 1, 1, 1, 1, 1, 1, 1, 1, 1,\n",
       "       1, 1, 1, 1, 1, 1, 1, 1, 1, 1, 1, 1, 1, 1, 1, 1, 0, 0, 0, 0, 0, 0,\n",
       "       0, 0, 0, 0, 0, 0, 0, 0, 0, 0, 0, 0, 0, 0, 0, 0, 0, 0, 0, 0, 0, 0,\n",
       "       0, 0, 0, 0, 0, 0, 0, 0, 0, 0, 0, 0, 0, 0, 0, 0, 0, 0, 0, 0, 0, 0,\n",
       "       0, 0, 0, 0, 0, 0, 0, 0, 0, 0, 0, 0, 0, 0, 0, 0, 0, 0, 0, 0, 0, 0,\n",
       "       0, 0, 0, 0, 0, 0, 0, 0, 0, 0, 0, 0, 0, 0, 0, 0, 1, 0, 0, 0, 0, 0,\n",
       "       0, 0, 0, 0, 0, 0, 0, 0], dtype=int64)"
      ]
     },
     "execution_count": 18,
     "metadata": {},
     "output_type": "execute_result"
    }
   ],
   "source": [
    "# Creating the Bag of Words model \n",
    "from sklearn.feature_extraction.text import CountVectorizer   \n",
    "# To extract max 1500 feature.max_features is attribute to experiment with to get better results \n",
    "cv = CountVectorizer(max_features = 1500)   \n",
    "# X contains corpus (dependent variable) \n",
    "X = cv.fit_transform(df.cleanText).toarray()   \n",
    "# y contains answers if review is positive or negative \n",
    "y = df.iloc[:, 1].values \n",
    "y"
   ]
  },
  {
   "cell_type": "code",
   "execution_count": 19,
   "metadata": {},
   "outputs": [],
   "source": [
    "#split the data\n",
    "from sklearn.model_selection import train_test_split\n",
    "X_train_bo, x_test_bo, Y_train_bo, y_test_bo= train_test_split(X,y, test_size = 0.3, random_state =0)"
   ]
  },
  {
   "cell_type": "code",
   "execution_count": 20,
   "metadata": {},
   "outputs": [
    {
     "name": "stderr",
     "output_type": "stream",
     "text": [
      "[Parallel(n_jobs=-1)]: Using backend LokyBackend with 8 concurrent workers.\n",
      "[Parallel(n_jobs=-1)]: Done   2 out of   5 | elapsed:    1.6s remaining:    2.5s\n",
      "[Parallel(n_jobs=-1)]: Done   5 out of   5 | elapsed:    2.1s finished\n"
     ]
    }
   ],
   "source": [
    "#MODEL\n",
    "from sklearn.linear_model import LogisticRegressionCV\n",
    "abcd= LogisticRegressionCV(cv=5,\n",
    "                         scoring='accuracy',\n",
    "                         random_state=0,\n",
    "                         n_jobs=-1,\n",
    "                         verbose=3,\n",
    "                         max_iter=300).fit(X_train_bo, Y_train_bo)"
   ]
  },
  {
   "cell_type": "code",
   "execution_count": 21,
   "metadata": {},
   "outputs": [
    {
     "data": {
      "text/plain": [
       "0.7766666666666666"
      ]
     },
     "execution_count": 21,
     "metadata": {},
     "output_type": "execute_result"
    }
   ],
   "source": [
    "abcd.score(x_test_bo,y_test_bo)"
   ]
  },
  {
   "cell_type": "code",
   "execution_count": 22,
   "metadata": {},
   "outputs": [
    {
     "name": "stdout",
     "output_type": "stream",
     "text": [
      "\n",
      " Confusion Matrix\n"
     ]
    },
    {
     "data": {
      "image/png": "[encoded data removed]",
      "text/plain": [
       "<Figure size 432x288 with 1 Axes>"
      ]
     },
     "metadata": {
      "needs_background": "light"
     },
     "output_type": "display_data"
    }
   ],
   "source": [
    "\n",
    "y_pred_bo = abcd.predict(x_test_bo)\n",
    "probss = abcd.predict_proba(x_test_bo)\n",
    "cmd = confusion_matrix(y_test_bo, y_pred_bo)\n",
    "abc_report(y_test_bo, y_pred_bo, probss)"
   ]
  },
  {
   "cell_type": "code",
   "execution_count": 23,
   "metadata": {},
   "outputs": [
    {
     "data": {
      "text/plain": [
       "array([1, 0, 1, 0, 1, 1, 0, 0, 0, 1, 0, 0, 0, 1, 1, 1, 0, 1, 1, 0, 1, 1,\n",
       "       0, 1, 0, 1, 0, 0, 1, 0, 1, 0, 0, 1, 0, 0, 1, 1, 1, 1, 0, 0, 0, 0,\n",
       "       0, 0, 1, 0, 0, 0, 0, 0, 1, 0, 0, 1, 0, 0, 0, 0, 0, 0, 1, 1, 0, 1,\n",
       "       1, 1, 1, 1, 1, 1, 1, 0, 0, 1, 1, 0, 1, 1, 0, 0, 0, 0, 1, 0, 1, 1,\n",
       "       1, 1, 0, 0, 0, 1, 0, 0, 0, 1, 1, 1, 1, 1, 1, 0, 0, 0, 1, 0, 1, 0,\n",
       "       0, 1, 0, 1, 1, 1, 0, 0, 1, 0, 1, 1, 1, 0, 0, 1, 1, 1, 0, 1, 1, 1,\n",
       "       1, 0, 0, 1, 1, 0, 1, 0, 0, 1, 1, 1, 0, 1, 0, 0, 1, 0, 0, 1, 0, 0,\n",
       "       0, 1, 1, 0, 1, 0, 0, 0, 0, 0, 0, 1, 1, 0, 1, 1, 0, 1, 1, 1, 1, 0,\n",
       "       1, 1, 1, 0, 0, 0, 0, 0, 0, 0, 1, 1, 0, 0, 1, 0, 1, 1, 1, 0, 0, 1,\n",
       "       1, 0, 1, 0, 1, 0, 1, 1, 1, 1, 0, 0, 1, 0, 1, 1, 0, 0, 1, 1, 0, 0,\n",
       "       0, 0, 0, 0, 1, 1, 1, 1, 0, 0, 0, 0, 1, 0, 0, 0, 0, 0, 1, 0, 0, 0,\n",
       "       0, 0, 1, 0, 1, 0, 1, 0, 0, 0, 1, 1, 1, 1, 0, 0, 0, 0, 0, 0, 1, 1,\n",
       "       1, 0, 1, 1, 0, 0, 1, 1, 0, 0, 0, 1, 1, 0, 0, 0, 1, 0, 1, 1, 0, 0,\n",
       "       0, 0, 1, 0, 0, 0, 0, 0, 0, 1, 1, 0, 0, 0], dtype=int64)"
      ]
     },
     "execution_count": 23,
     "metadata": {},
     "output_type": "execute_result"
    }
   ],
   "source": [
    "y_pred_bo"
   ]
  },
  {
   "cell_type": "code",
   "execution_count": 24,
   "metadata": {},
   "outputs": [
    {
     "name": "stdout",
     "output_type": "stream",
     "text": [
      "Overall Accuracy :  77.67\n",
      "Precision Score :  83.21\n",
      "Recall Score :  72.15\n"
     ]
    }
   ],
   "source": [
    "print(\"Overall Accuracy : \", round(accuracy_score(y_test_bo, y_pred_bo) * 100, 2))\n",
    "print(\"Precision Score : \", round(precision_score(y_test_bo, y_pred_bo, average='binary') * 100, 2))\n",
    "print(\"Recall Score : \", round(recall_score(y_test_bo, y_pred_bo, average='binary') * 100, 2))"
   ]
  },
  {
   "cell_type": "markdown",
   "metadata": {},
   "source": [
    "TESTING ON THE GIVEN INPUT"
   ]
  },
  {
   "cell_type": "code",
   "execution_count": 25,
   "metadata": {},
   "outputs": [
    {
     "name": "stdout",
     "output_type": "stream",
     "text": [
      "[0]\n"
     ]
    }
   ],
   "source": [
    "#if the out put is 0 then the text is safe for the user. If it is one then parental guidance is needed.\n",
    "NLP=[\"hi how are you doing today\"]\n",
    "print(abcd.predict(cv.transform(NLP)))"
   ]
  },
  {
   "cell_type": "code",
   "execution_count": 26,
   "metadata": {},
   "outputs": [
    {
     "name": "stdout",
     "output_type": "stream",
     "text": [
      "[1]\n"
     ]
    }
   ],
   "source": [
    "NLP1=[\"Bitch stop it\"]\n",
    "print(abcd.predict(cv.transform(NLP1)))"
   ]
  },
  {
   "cell_type": "markdown",
   "metadata": {},
   "source": [
    "# Accuracy Comparison"
   ]
  },
  {
   "cell_type": "code",
   "execution_count": 27,
   "metadata": {},
   "outputs": [
    {
     "name": "stdout",
     "output_type": "stream",
     "text": [
      "TFIDF ACCURACY :  78.0\n",
      "BOW ACCURACY :  77.67\n"
     ]
    }
   ],
   "source": [
    "print(\"TFIDF ACCURACY : \", round(accuracy_score(y_test, y_pred) * 100, 2) )\n",
    "print(\"BOW ACCURACY : \", round(accuracy_score(y_test_bo, y_pred_bo) * 100, 2))"
   ]
  },
  {
   "cell_type": "code",
   "execution_count": null,
   "metadata": {},
   "outputs": [],
   "source": []
  }
 ],
 "metadata": {
  "kernelspec": {
   "display_name": "Python 3",
   "language": "python",
   "name": "python3"
  },
  "language_info": {
   "codemirror_mode": {
    "name": "ipython",
    "version": 3
   },
   "file_extension": ".py",
   "mimetype": "text/x-python",
   "name": "python",
   "nbconvert_exporter": "python",
   "pygments_lexer": "ipython3",
   "version": "3.7.6"
  }
 },
 "nbformat": 4,
 "nbformat_minor": 4
}
